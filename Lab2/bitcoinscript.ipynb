{
 "cells": [
  {
   "cell_type": "markdown",
   "metadata": {},
   "source": [
    "### Danh sách thư viện"
   ]
  },
  {
   "cell_type": "code",
   "execution_count": null,
   "metadata": {},
   "outputs": [],
   "source": [
    "from bitcoinlib.keys import Key\n",
    "from bitcoinlib.wallets import *\n",
    "from bitcoinlib.values import *"
   ]
  },
  {
   "cell_type": "markdown",
   "metadata": {},
   "source": [
    "## Create a P2PKH Script"
   ]
  },
  {
   "cell_type": "markdown",
   "metadata": {},
   "source": [
    "### In ra màn hinhg thông tin của 1 ví"
   ]
  },
  {
   "cell_type": "code",
   "execution_count": 33,
   "metadata": {},
   "outputs": [],
   "source": [
    "def print_info_wallet(wallet: Wallet, private_key):\n",
    "    print(\"Infomation of Wallet\")\n",
    "    wallet.utxos_update()\n",
    "    wallet.info()\n",
    "    \n",
    "    print(\"-----Infomation of Private key, Public key, Address------\")\n",
    "    print(\"Private_key: \", private_key)\n",
    "    public_key = wallet.public_master().wif\n",
    "    print(\"Public_key: \", public_key)\n",
    "    print(\"Address: \", wallet.addresslist()[0])"
   ]
  },
  {
   "cell_type": "markdown",
   "metadata": {},
   "source": [
    "### Tạo private_key và tạo 1 ví (Chỉ chạy 1 lần đầu)"
   ]
  },
  {
   "cell_type": "code",
   "execution_count": 35,
   "metadata": {},
   "outputs": [
    {
     "name": "stdout",
     "output_type": "stream",
     "text": [
      "Infomation of Wallet\n",
      "=== WALLET ===\n",
      " ID                             5\n",
      " Name                           wallet_1_test\n",
      " Owner                          \n",
      " Scheme                         bip32\n",
      " Multisig                       False\n",
      " Witness type                   segwit\n",
      " Main network                   testnet\n",
      " Latest update                  None\n",
      "\n",
      "= Wallet Master Key =\n",
      " ID                             25\n",
      " Private                        True\n",
      " Depth                          0\n",
      "\n",
      "- NETWORK: testnet -\n",
      "- - Keys\n",
      "   30 m/84'/1'/0'/0/0              tb1qflg0htt6ae3vcp0thc7rlrd9gelmv0e88q3frj    address index 0                     0.00022475 TBTC\n",
      "\n",
      "- - Transactions Account 0 (1)\n",
      "33dcd445966d4a20e342af2d793a4e41245a023fa5d6aa165837e4fab5918612  tb1qflg0htt6ae3vcp0thc7rlrd9gelmv0e88q3frj      300       0.00022475 TBTC U \n",
      "\n",
      "= Balance Totals (includes unconfirmed) =\n",
      "testnet              (Account 0)               0.00022475 TBTC\n",
      "\n",
      "\n",
      "-----Infomation of Private key, Public key, Address------\n",
      "Private_key:  73865105958ac341bd6b7eaca2a63656b60141decd9050828eb37ec0b876cc44\n",
      "Public_key:  vpub5Yv8win3HD4JmE9VbtcwRXjRgFHACq9LMkYZE6og1MXWwBWcPitF6ZAzjhBfX8bJq7a8hudoRTGZyrhymZmSGVfddvyAk68FF9mVXWzYy61\n",
      "Address:  tb1qflg0htt6ae3vcp0thc7rlrd9gelmv0e88q3frj\n"
     ]
    }
   ],
   "source": [
    "# # Generate a random private key\n",
    "# private_key = Key(network='testnet').private_hex\n",
    "\n",
    "# wallet_name = 'wallet_1_test'\n",
    "# wallet = wallet_create_or_open(wallet_name, private_key, network='testnet')\n",
    "# print_info_wallet(wallet, private_key)\n"
   ]
  },
  {
   "cell_type": "markdown",
   "metadata": {},
   "source": [
    "- `wallet_name: `wallet_1_test\n",
    "- `Private_key:` 73865105958ac341bd6b7eaca2a63656b60141decd9050828eb37ec0b876cc44\n",
    "- `Public_key:` vpub5Yv8win3HD4JmE9VbtcwRXjRgFHACq9LMkYZE6og1MXWwBWcPitF6ZAzjhBfX8bJq7a8hudoRTGZyrhymZmSGVfddvyAk68FF9mVXWzYy61\n",
    "- `Address:` tb1qflg0htt6ae3vcp0thc7rlrd9gelmv0e88q3frj"
   ]
  },
  {
   "cell_type": "markdown",
   "metadata": {},
   "source": [
    "## Lock Funds"
   ]
  },
  {
   "cell_type": "markdown",
   "metadata": {},
   "source": [
    "### Sử dụng Bitcoin testnet faucet để gửi BTC đến ví vừa tạo "
   ]
  },
  {
   "cell_type": "code",
   "execution_count": 58,
   "metadata": {},
   "outputs": [
    {
     "name": "stdout",
     "output_type": "stream",
     "text": [
      "Infomation of Wallet\n",
      "=== WALLET ===\n",
      " ID                             5\n",
      " Name                           wallet_1_test\n",
      " Owner                          \n",
      " Scheme                         bip32\n",
      " Multisig                       False\n",
      " Witness type                   segwit\n",
      " Main network                   testnet\n",
      " Latest update                  None\n",
      "\n",
      "= Wallet Master Key =\n",
      " ID                             25\n",
      " Private                        True\n",
      " Depth                          0\n",
      "\n",
      "- NETWORK: testnet -\n",
      "- - Keys\n",
      "\n",
      "- - Transactions Account 0 (3)\n",
      "33dcd445966d4a20e342af2d793a4e41245a023fa5d6aa165837e4fab5918612  tb1qflg0htt6ae3vcp0thc7rlrd9gelmv0e88q3frj      315       0.00022475 TBTC   \n",
      "8df04228c7d82675992f9875ea9cb18fa0e0feba87ace2a436c6c90e8eac74ca  tb1qflg0htt6ae3vcp0thc7rlrd9gelmv0e88q3frj        0      -0.00022475 TBTC   \n",
      "8df04228c7d82675992f9875ea9cb18fa0e0feba87ace2a436c6c90e8eac74ca  tb1q3wagxjh2xnhuej7r6kkz5dm8gupsetf65vjjt9        0       0.00020693 TBTC   \n",
      "\n",
      "= Balance Totals (includes unconfirmed) =\n",
      "\n",
      "\n",
      "-----Infomation of Private key, Public key, Address------\n",
      "Private_key:  73865105958ac341bd6b7eaca2a63656b60141decd9050828eb37ec0b876cc44\n",
      "Public_key:  vpub5Yv8win3HD4JmE9VbtcwRXjRgFHACq9LMkYZE6og1MXWwBWcPitF6ZAzjhBfX8bJq7a8hudoRTGZyrhymZmSGVfddvyAk68FF9mVXWzYy61\n",
      "Address:  tb1qflg0htt6ae3vcp0thc7rlrd9gelmv0e88q3frj\n"
     ]
    }
   ],
   "source": [
    "# Get wallet\n",
    "wallet_name_send = 'wallet_1_test'\n",
    "private_key_send = '73865105958ac341bd6b7eaca2a63656b60141decd9050828eb37ec0b876cc44'\n",
    "wallet_send = wallet_create_or_open(wallet_name_send, private_key_send, network='testnet')\n",
    "print_info_wallet(wallet_send, private_key_send)"
   ]
  },
  {
   "cell_type": "markdown",
   "metadata": {},
   "source": [
    "## Spend Locked Funds"
   ]
  },
  {
   "cell_type": "markdown",
   "metadata": {},
   "source": [
    "### Tạo 1 ví mới để nhận "
   ]
  },
  {
   "cell_type": "code",
   "execution_count": 53,
   "metadata": {},
   "outputs": [
    {
     "name": "stdout",
     "output_type": "stream",
     "text": [
      "Infomation of Wallet\n",
      "=== WALLET ===\n",
      " ID                             6\n",
      " Name                           wallet_1_recieve\n",
      " Owner                          \n",
      " Scheme                         bip32\n",
      " Multisig                       False\n",
      " Witness type                   segwit\n",
      " Main network                   testnet\n",
      " Latest update                  None\n",
      "\n",
      "= Wallet Master Key =\n",
      " ID                             31\n",
      " Private                        True\n",
      " Depth                          0\n",
      "\n",
      "- NETWORK: testnet -\n",
      "- - Keys\n",
      "   36 m/84'/1'/0'/0/0              tb1qs0rlmmq7dn0rh6csedpswv9rxfn743va44udlc    address index 0                     0.00000000 TBTC\n",
      "\n",
      "- - Transactions Account 0 (0)\n",
      "\n",
      "= Balance Totals (includes unconfirmed) =\n",
      "\n",
      "\n",
      "-----Infomation of Private key, Public key, Address------\n",
      "Private_key:  af237b45125eb4c63e0c7587e66d0d4e8f276086bb4e0046380b2d8ef63c98ec\n",
      "Public_key:  vpub5ZgpxrojCsd8iKho7aDfDVPobmU2U4rLMLnEmUsWjEsEEA8vkjWHHDCPUZ64tfq7AjskpBMttwz94hf3eVHKsD34HwYG31Kn86zCrtnz4cx\n",
      "Address:  tb1qs0rlmmq7dn0rh6csedpswv9rxfn743va44udlc\n"
     ]
    }
   ],
   "source": [
    "# # Generate a random private key\n",
    "# private_key_recieve = Key(network='testnet').private_hex\n",
    "\n",
    "# wallet_name_recieve = 'wallet_1_recieve'\n",
    "# wallet_recieve = wallet_create_or_open(wallet_name = wallet_name_recieve, private_key = private_key_recieve, network='testnet')\n",
    "# print_info_wallet(wallet_recieve, private_key_recieve)\n",
    "#==================================================================================\n",
    "wallet_name_recieve = 'wallet_1_recieve'\n",
    "private_key_recieve = 'af237b45125eb4c63e0c7587e66d0d4e8f276086bb4e0046380b2d8ef63c98ec'\n",
    "wallet_recieve = wallet_create_or_open(wallet_name_recieve, private_key_recieve, network='testnet')\n",
    "print_info_wallet(wallet_recieve, private_key_recieve)\n"
   ]
  },
  {
   "cell_type": "markdown",
   "metadata": {},
   "source": [
    "- `wallet_name: `wallet_1_recieve\n",
    "- `Private_key:` af237b45125eb4c63e0c7587e66d0d4e8f276086bb4e0046380b2d8ef63c98ec\n",
    "- `Public_key:` vpub5ZgpxrojCsd8iKho7aDfDVPobmU2U4rLMLnEmUsWjEsEEA8vkjWHHDCPUZ64tfq7AjskpBMttwz94hf3eVHKsD34HwYG31Kn86zCrtnz4cx\n",
    "- `Address:` tb1qs0rlmmq7dn0rh6csedpswv9rxfn743va44udlc"
   ]
  },
  {
   "cell_type": "markdown",
   "metadata": {},
   "source": [
    "### Gửi coin"
   ]
  },
  {
   "cell_type": "code",
   "execution_count": 54,
   "metadata": {},
   "outputs": [],
   "source": [
    "def spendLockFunds(wallet: Wallet, private_key_send: String, amount: float, destination_address: String):\n",
    "    # wallet.info()\n",
    "    wallet.utxos_update()\n",
    "    amount = int(amount * 1e8)\n",
    "\n",
    "    Tx = wallet.send_to(to_address=destination_address, amount=amount, network='testnet', priv_keys = private_key_send ,broadcast = True)\n",
    "    Tx.info()\n",
    "    \n",
    "    print('Transaction finished! See your wallet status below:')\n",
    "    wallet.utxos_update()\n",
    "    # wallet.info()"
   ]
  },
  {
   "cell_type": "code",
   "execution_count": null,
   "metadata": {},
   "outputs": [
    {
     "name": "stdout",
     "output_type": "stream",
     "text": [
      "Transaction 8df04228c7d82675992f9875ea9cb18fa0e0feba87ace2a436c6c90e8eac74ca\n",
      "Date: None\n",
      "Network: testnet\n",
      "Locktime: Until block 3609426\n",
      "Version: 1\n",
      "Witness type: segwit\n",
      "Status: unconfirmed\n",
      "Verified: True\n",
      "Inputs\n",
      "- tb1qflg0htt6ae3vcp0thc7rlrd9gelmv0e88q3frj 0.00022475 tBTC 33dcd445966d4a20e342af2d793a4e41245a023fa5d6aa165837e4fab5918612 0\n",
      "  segwit sig_pubkey; sigs: 1 (1-of-1) valid\n",
      "Outputs\n",
      "- tb1qs0rlmmq7dn0rh6csedpswv9rxfn743va44udlc 0.00001500 tBTC p2wpkh U\n",
      "- tb1q3wagxjh2xnhuej7r6kkz5dm8gupsetf65vjjt9 0.00020693 tBTC p2wpkh UC\n",
      "Size: 222\n",
      "Vsize: 141\n",
      "Fee: 282\n",
      "Confirmations: 0\n",
      "Block: None\n",
      "Pushed to network: True\n",
      "Wallet: wallet_1_test\n",
      "\n",
      "\n",
      "Transaction finished! See your wallet status below:\n"
     ]
    }
   ],
   "source": [
    "# Define recipient address and amount to send\n",
    "recipient_address = \"tb1qs0rlmmq7dn0rh6csedpswv9rxfn743va44udlc\"\n",
    "amount_to_send = 1500 /1e8  # Amount in BTC (adjust as needed)\n",
    "private_key_send = '73865105958ac341bd6b7eaca2a63656b60141decd9050828eb37ec0b876cc44'\n",
    "wallet_send\n",
    "try:\n",
    "    spendLockFunds(wallet_send, private_key_send, amount_to_send, recipient_address)\n",
    "except Exception as e:\n",
    "    print(f\"Error: {e}\")\n"
   ]
  },
  {
   "cell_type": "markdown",
   "metadata": {},
   "source": [
    "### Kiểm tra đã nhận được coin chưa"
   ]
  },
  {
   "cell_type": "code",
   "execution_count": 57,
   "metadata": {},
   "outputs": [
    {
     "name": "stdout",
     "output_type": "stream",
     "text": [
      "Infomation of Wallet\n",
      "=== WALLET ===\n",
      " ID                             6\n",
      " Name                           wallet_1_recieve\n",
      " Owner                          \n",
      " Scheme                         bip32\n",
      " Multisig                       False\n",
      " Witness type                   segwit\n",
      " Main network                   testnet\n",
      " Latest update                  None\n",
      "\n",
      "= Wallet Master Key =\n",
      " ID                             31\n",
      " Private                        True\n",
      " Depth                          0\n",
      "\n",
      "- NETWORK: testnet -\n",
      "- - Keys\n",
      "   36 m/84'/1'/0'/0/0              tb1qs0rlmmq7dn0rh6csedpswv9rxfn743va44udlc    address index 0                     0.00000000 TBTC\n",
      "\n",
      "- - Transactions Account 0 (0)\n",
      "\n",
      "= Balance Totals (includes unconfirmed) =\n",
      "\n",
      "\n",
      "-----Infomation of Private key, Public key, Address------\n",
      "Private_key:  af237b45125eb4c63e0c7587e66d0d4e8f276086bb4e0046380b2d8ef63c98ec\n",
      "Public_key:  vpub5ZgpxrojCsd8iKho7aDfDVPobmU2U4rLMLnEmUsWjEsEEA8vkjWHHDCPUZ64tfq7AjskpBMttwz94hf3eVHKsD34HwYG31Kn86zCrtnz4cx\n",
      "Address:  tb1qs0rlmmq7dn0rh6csedpswv9rxfn743va44udlc\n"
     ]
    }
   ],
   "source": [
    "wallet_name_recieve = 'wallet_1_recieve'\n",
    "private_key_recieve = 'af237b45125eb4c63e0c7587e66d0d4e8f276086bb4e0046380b2d8ef63c98ec'\n",
    "wallet_recieve = wallet_create_or_open(wallet_name_recieve, private_key_recieve, network='testnet')\n",
    "print_info_wallet(wallet_recieve, private_key_recieve)"
   ]
  }
 ],
 "metadata": {
  "kernelspec": {
   "display_name": "min_ds-env",
   "language": "python",
   "name": "python3"
  },
  "language_info": {
   "codemirror_mode": {
    "name": "ipython",
    "version": 3
   },
   "file_extension": ".py",
   "mimetype": "text/x-python",
   "name": "python",
   "nbconvert_exporter": "python",
   "pygments_lexer": "ipython3",
   "version": "3.9.18"
  }
 },
 "nbformat": 4,
 "nbformat_minor": 2
}
