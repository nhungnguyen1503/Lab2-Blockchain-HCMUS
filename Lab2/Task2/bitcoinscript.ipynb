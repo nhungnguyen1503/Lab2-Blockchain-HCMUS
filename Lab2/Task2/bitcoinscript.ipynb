{
 "cells": [
  {
   "cell_type": "markdown",
   "metadata": {},
   "source": [
    "### Danh sách thư viện"
   ]
  },
  {
   "cell_type": "code",
   "execution_count": 5,
   "metadata": {},
   "outputs": [
    {
     "name": "stdout",
     "output_type": "stream",
     "text": [
      "Requirement already satisfied: bitcoinlib in c:\\users\\mphuo\\appdata\\local\\packages\\pythonsoftwarefoundation.python.3.11_qbz5n2kfra8p0\\localcache\\local-packages\\python311\\site-packages (0.7.1)\n",
      "Requirement already satisfied: requests>=2.25.0 in c:\\users\\mphuo\\appdata\\local\\packages\\pythonsoftwarefoundation.python.3.11_qbz5n2kfra8p0\\localcache\\local-packages\\python311\\site-packages (from bitcoinlib) (2.31.0)\n",
      "Requirement already satisfied: ecdsa>=0.18 in c:\\users\\mphuo\\appdata\\local\\packages\\pythonsoftwarefoundation.python.3.11_qbz5n2kfra8p0\\localcache\\local-packages\\python311\\site-packages (from bitcoinlib) (0.19.0)\n",
      "Requirement already satisfied: pycryptodome>=3.19.0 in c:\\users\\mphuo\\appdata\\local\\packages\\pythonsoftwarefoundation.python.3.11_qbz5n2kfra8p0\\localcache\\local-packages\\python311\\site-packages (from bitcoinlib) (3.21.0)\n",
      "Requirement already satisfied: SQLAlchemy>=2.0.20 in c:\\users\\mphuo\\appdata\\local\\packages\\pythonsoftwarefoundation.python.3.11_qbz5n2kfra8p0\\localcache\\local-packages\\python311\\site-packages (from bitcoinlib) (2.0.36)\n",
      "Requirement already satisfied: numpy>=1.22.0 in c:\\users\\mphuo\\appdata\\local\\packages\\pythonsoftwarefoundation.python.3.11_qbz5n2kfra8p0\\localcache\\local-packages\\python311\\site-packages (from bitcoinlib) (1.26.2)\n",
      "Requirement already satisfied: six>=1.9.0 in c:\\users\\mphuo\\appdata\\local\\packages\\pythonsoftwarefoundation.python.3.11_qbz5n2kfra8p0\\localcache\\local-packages\\python311\\site-packages (from ecdsa>=0.18->bitcoinlib) (1.16.0)\n",
      "Requirement already satisfied: charset-normalizer<4,>=2 in c:\\users\\mphuo\\appdata\\local\\packages\\pythonsoftwarefoundation.python.3.11_qbz5n2kfra8p0\\localcache\\local-packages\\python311\\site-packages (from requests>=2.25.0->bitcoinlib) (3.3.2)\n",
      "Requirement already satisfied: idna<4,>=2.5 in c:\\users\\mphuo\\appdata\\local\\packages\\pythonsoftwarefoundation.python.3.11_qbz5n2kfra8p0\\localcache\\local-packages\\python311\\site-packages (from requests>=2.25.0->bitcoinlib) (3.6)\n",
      "Requirement already satisfied: urllib3<3,>=1.21.1 in c:\\users\\mphuo\\appdata\\local\\packages\\pythonsoftwarefoundation.python.3.11_qbz5n2kfra8p0\\localcache\\local-packages\\python311\\site-packages (from requests>=2.25.0->bitcoinlib) (2.1.0)\n",
      "Requirement already satisfied: certifi>=2017.4.17 in c:\\users\\mphuo\\appdata\\local\\packages\\pythonsoftwarefoundation.python.3.11_qbz5n2kfra8p0\\localcache\\local-packages\\python311\\site-packages (from requests>=2.25.0->bitcoinlib) (2023.11.17)\n",
      "Requirement already satisfied: typing-extensions>=4.6.0 in c:\\users\\mphuo\\appdata\\local\\packages\\pythonsoftwarefoundation.python.3.11_qbz5n2kfra8p0\\localcache\\local-packages\\python311\\site-packages (from SQLAlchemy>=2.0.20->bitcoinlib) (4.12.2)\n",
      "Requirement already satisfied: greenlet!=0.4.17 in c:\\users\\mphuo\\appdata\\local\\packages\\pythonsoftwarefoundation.python.3.11_qbz5n2kfra8p0\\localcache\\local-packages\\python311\\site-packages (from SQLAlchemy>=2.0.20->bitcoinlib) (3.1.1)\n",
      "Note: you may need to restart the kernel to use updated packages.\n"
     ]
    }
   ],
   "source": [
    "%pip install bitcoinlib"
   ]
  },
  {
   "cell_type": "code",
   "execution_count": 49,
   "metadata": {},
   "outputs": [],
   "source": [
    "from bitcoinlib.keys import Key\n",
    "from bitcoinlib.wallets import *\n",
    "from bitcoinlib.values import *\n",
    "from bitcoinlib.keys import HDKey\n",
    "from bitcoinlib.services.services import Service\n",
    "from bitcoinlib.transactions import Transaction, Output\n",
    "\n",
    "\n",
    "\n"
   ]
  },
  {
   "cell_type": "markdown",
   "metadata": {},
   "source": [
    "## Create a P2PKH Script"
   ]
  },
  {
   "cell_type": "markdown",
   "metadata": {},
   "source": [
    "### In ra màn hình thông tin của 1 ví"
   ]
  },
  {
   "cell_type": "code",
   "execution_count": 33,
   "metadata": {},
   "outputs": [],
   "source": [
    "def print_info_wallet(wallet: Wallet, private_key):\n",
    "    print(\"Infomation of Wallet\")\n",
    "    wallet.utxos_update()\n",
    "    wallet.info()\n",
    "    \n",
    "    print(\"-----Infomation of Private key, Public key, Address------\")\n",
    "    print(\"Private_key: \", private_key)\n",
    "    public_key = wallet.public_master().wif\n",
    "    print(\"Public_key: \", public_key)\n",
    "    print(\"Address: \", wallet.addresslist()[0])"
   ]
  },
  {
   "cell_type": "markdown",
   "metadata": {},
   "source": [
    "### Sinh các khoá và Redeem Script rồi tạo ví (Chỉ chạy 1 lần đầu)"
   ]
  },
  {
   "cell_type": "code",
   "execution_count": 48,
   "metadata": {},
   "outputs": [
    {
     "name": "stdout",
     "output_type": "stream",
     "text": [
      "Wallet information has been saved to 'Wallet.txt'.\n",
      "Deposit testnet Bitcoin to this address to create transaction: tb1qm0lqll5h5ryk2zmtpts38yrkueq2v4c6yuv85kfsmstcnu4g9kvsayngps\n"
     ]
    }
   ],
   "source": [
    "from bitcoinlib.wallets import Wallet\n",
    "from bitcoinlib.keys import HDKey\n",
    "\n",
    "# Thiết lập mạng và tạo các khóa\n",
    "NETWORK = 'testnet'\n",
    "k1 = HDKey(network=NETWORK)\n",
    "k2 = HDKey(network=NETWORK)\n",
    "\n",
    "# Tạo ví multisig 2-of-2\n",
    "w1 = Wallet.create('multisig_2of2_1', sigs_required=2, keys=[k1, k2.public_master(multisig=True)], network=NETWORK)\n",
    "w2 = Wallet.create('multisig_2of2_2', sigs_required=2, keys=[k1.public_master(multisig=True), k2], network=NETWORK)\n",
    "\n",
    "# Lấy địa chỉ ví\n",
    "address1 = w1.get_key().address\n",
    "\n",
    "# Lưu địa chỉ ví và các khóa vào file txt\n",
    "file_name = \"Wallet.txt\"\n",
    "with open(file_name, \"w\") as file:\n",
    "    file.write(\"Multisig Wallet Information\\n\")\n",
    "    file.write(\"===========================\\n\\n\")\n",
    "    file.write(f\"Cosigner  Address: {address1}\\n\")\n",
    "    file.write(\"Keys and Signatures:\\n\")\n",
    "    file.write(\"---------------------\\n\")\n",
    "    file.write(f\"Cosigner 1 Key (Private): {k1.private_hex}\\n\")\n",
    "    file.write(f\"Cosigner 1 Key (Public): {k1.public_hex}\\n\\n\")\n",
    "    file.write(f\"Cosigner 2 Key (Private): {k2.private_hex}\\n\")\n",
    "    file.write(f\"Cosigner 2 Key (Public): {k2.public_hex}\\n\\n\")\n",
    "\n",
    "print(f\"Wallet information has been saved to '{file_name}'.\")\n",
    "print(f\"Deposit testnet Bitcoin to this address to create transaction: {address1}\")\n"
   ]
  },
  {
   "cell_type": "markdown",
   "metadata": {},
   "source": [
    "## Lock Funds"
   ]
  },
  {
   "cell_type": "markdown",
   "metadata": {},
   "source": [
    "### Sử dụng Bitcoin testnet faucet để gửi BTC đến ví vừa tạo "
   ]
  },
  {
   "cell_type": "markdown",
   "metadata": {},
   "source": [
    "## Spend Locked Funds"
   ]
  },
  {
   "cell_type": "markdown",
   "metadata": {},
   "source": [
    "### Tạo 1 ví mới để nhận "
   ]
  },
  {
   "cell_type": "markdown",
   "metadata": {},
   "source": [
    "- `wallet_name: `wallet_1_recieve\n",
    "- `Private_key:` af237b45125eb4c63e0c7587e66d0d4e8f276086bb4e0046380b2d8ef63c98ec\n",
    "- `Public_key:` vpub5ZgpxrojCsd8iKho7aDfDVPobmU2U4rLMLnEmUsWjEsEEA8vkjWHHDCPUZ64tfq7AjskpBMttwz94hf3eVHKsD34HwYG31Kn86zCrtnz4cx\n",
    "- `Address:` tb1qs0rlmmq7dn0rh6csedpswv9rxfn743va44udlc"
   ]
  },
  {
   "cell_type": "markdown",
   "metadata": {},
   "source": [
    "### Gửi coin"
   ]
  },
  {
   "cell_type": "code",
   "execution_count": 54,
   "metadata": {},
   "outputs": [],
   "source": [
    "def spendLockFunds(wallet: Wallet, private_key_send: String, amount: float, destination_address: String):\n",
    "    # wallet.info()\n",
    "    wallet.utxos_update()\n",
    "    amount = int(amount * 1e8)\n",
    "\n",
    "    Tx = wallet.send_to(to_address=destination_address, amount=amount, network='testnet', priv_keys = private_key_send ,broadcast = True)\n",
    "    Tx.info()\n",
    "    \n",
    "    print('Transaction finished! See your wallet status below:')\n",
    "    wallet.utxos_update()\n",
    "    # wallet.info()"
   ]
  },
  {
   "cell_type": "code",
   "execution_count": null,
   "metadata": {},
   "outputs": [
    {
     "name": "stdout",
     "output_type": "stream",
     "text": [
      " Địa chỉ multisig: tb1qm0lqll5h5ryk2zmtpts38yrkueq2v4c6yuv85kfsmstcnu4g9kvsayngps\n",
      " Cosigner 1 Private Key: fd07f9b6ccbf0b2addf7e629df1fc099de09b09882a4f8d1e9fba2777686ada0\n",
      " Cosigner 2 Private Key: 538676ec41cc8a6f5c77cf28504cb7a7769ebba759221e75fcb1a3702215c6ef\n",
      " Cosigner 1 Public Key: 025aad3de42f83fc3a62d68f7ac2566c996de954e5f091110afafcb9bec9649f9a\n",
      " Cosigner 2 Public Key: 02a4a5e3a6fde7e021d45504698878bb58c1790f098edca15d4c929cedf6762c12\n",
      " Địa chỉ nhận: tb1qflg0htt6ae3vcp0thc7rlrd9gelmv0e88q3frj\n",
      " Số tiền gửi (BTC): 1e-05\n",
      " Đang lấy UTXO từ địa chỉ: tb1qm0lqll5h5ryk2zmtpts38yrkueq2v4c6yuv85kfsmstcnu4g9kvsayngps\n",
      "Danh sách UTXOs:\n",
      "  TxID: 692c7d5d5177fd9b683e3e343f40a02769506bdf9f32a260a56702b61107463d, Output Index: 1, Value: 10000 Satoshis\n",
      " Tổng số dư: 10000 Satoshis\n",
      " Giao dịch trước khi ký:\n",
      "Transaction d21633ba23f70118185227be58a63527675641ad37967e2aa461559f577aec43\n",
      "Date: None\n",
      "Network: testnet\n",
      "Version: 1\n",
      "Witness type: segwit\n",
      "Status: new\n",
      "Verified: False\n",
      "Inputs\n",
      "-  0.00000000 tBTC 692c7d5d5177fd9b683e3e343f40a02769506bdf9f32a260a56702b61107463d 1\n",
      "  legacy sig_pubkey; sigs: 0 (1-of-0) not validated\n",
      "Outputs\n",
      "Size: 10\n",
      "Vsize: 10\n",
      "Fee: None\n",
      "Confirmations: None\n",
      "Block: None\n",
      "None\n",
      "hehe\n",
      "Transaction d21633ba23f70118185227be58a63527675641ad37967e2aa461559f577aec43\n",
      "Date: None\n",
      "Network: testnet\n",
      "Version: 1\n",
      "Witness type: segwit\n",
      "Status: new\n",
      "Verified: False\n",
      "Inputs\n",
      "- tb1qsh5tcqpg5zp0p0ndezgw0m84v05safqhnlqvsf 0.00000000 tBTC 692c7d5d5177fd9b683e3e343f40a02769506bdf9f32a260a56702b61107463d 1\n",
      "  legacy sig_pubkey; sigs: 2 (1-of-2) not validated\n",
      "Outputs\n",
      "Size: 10\n",
      "Vsize: 10\n",
      "Fee: None\n",
      "Confirmations: None\n",
      "Block: None\n",
      "None\n",
      "Lỗi khi gửi giao dịch: RPC error\n"
     ]
    }
   ],
   "source": [
    "\n",
    "# Đường dẫn file chứa thông tin ví\n",
    "import requests\n",
    "\n",
    "\n",
    "file_name = \"Wallet.txt\"\n",
    "\n",
    "try:\n",
    "    if not os.path.exists(file_name):\n",
    "        raise FileNotFoundError(f\"File {file_name} không tồn tại.\")\n",
    "\n",
    "    with open(file_name, \"r\") as file:\n",
    "        lines = file.readlines()\n",
    "\n",
    "    if len(lines) < 8:\n",
    "        raise ValueError(\"File không đúng cấu trúc hoặc thiếu thông tin.\")\n",
    "\n",
    "    # Trích xuất thông tin từ file\n",
    "    cosigner_address = lines[0].split(\": \")[1].strip()\n",
    "    cosigner1_private_key = lines[3].split(\": \")[1].strip()\n",
    "    cosigner2_private_key = lines[6].split(\": \")[1].strip()\n",
    "\n",
    "    \n",
    "    network = 'testnet'\n",
    "    w1 = wallet_create_or_open('multisigcosigner1', sigs_required=2, keys=[k1, k2.public_master(multisig=True)], network=network)\n",
    "    w2 = wallet_create_or_open('multisigcosigner2', sigs_required=2, keys=[k1.public_master(multisig=True), k2], network=network)\n",
    "\n",
    "    print(\" Địa chỉ multisig:\", cosigner_address)\n",
    "    print(\" Cosigner 1 Private Key:\", cosigner1_private_key)\n",
    "    print(\" Cosigner 2 Private Key:\", cosigner2_private_key)\n",
    "\n",
    "    # Kiểm tra thông tin private key\n",
    "    if not cosigner1_private_key or not cosigner2_private_key:\n",
    "        raise ValueError(\"Không tìm thấy khóa riêng (private key)\")\n",
    "\n",
    "    cosigner1_key = Key(import_key=cosigner1_private_key, network='testnet')\n",
    "    cosigner2_key = Key(import_key=cosigner2_private_key, network='testnet')\n",
    "    print(\" Cosigner 1 Public Key:\", cosigner1_key.public())\n",
    "    print(\" Cosigner 2 Public Key:\", cosigner2_key.public())\n",
    "\n",
    "\n",
    "    recipient_address = \"tb1qflg0htt6ae3vcp0thc7rlrd9gelmv0e88q3frj\"\n",
    "    amount = 0.00001 \n",
    "    print(\" Địa chỉ nhận:\", recipient_address)\n",
    "    print(\" Số tiền gửi (BTC):\", amount)\n",
    "\n",
    "    # Lấy UTXOs từ địa chỉ ví multisig\n",
    "    print(\" Đang lấy UTXO từ địa chỉ:\", cosigner_address)\n",
    "    service = Service(network='testnet')\n",
    "    utxos = service.getutxos(address=cosigner_address)\n",
    "\n",
    "    if not utxos:\n",
    "        raise ValueError(f\"Không có UTXO nào khả dụng tại địa chỉ: {cosigner_address}. Vui lòng nạp Bitcoin testnet.\")\n",
    "\n",
    "    print(\"Danh sách UTXOs:\")\n",
    "    total_balance = 0\n",
    "    for utxo in utxos:\n",
    "        print(f\"  TxID: {utxo['txid']}, Output Index: {utxo['output_n']}, Value: {utxo['value']} Satoshis\")\n",
    "        total_balance += utxo['value']\n",
    "\n",
    "    print(\" Tổng số dư:\", total_balance, \"Satoshis\")\n",
    "\n",
    "    if total_balance < 0.000001 :\n",
    "        raise ValueError(\"Số dư không đủ để thực hiện giao dịch. Vui lòng nạp thêm Bitcoin testnet.\")\n",
    "\n",
    "    # Tạo giao dịch\n",
    "    transaction = Transaction(network='testnet')\n",
    "    for utxo in utxos:\n",
    "        txid = utxo['txid']\n",
    "        output_n = utxo['output_n']\n",
    "        transaction.add_input(txid, output_n)\n",
    "        print(\" Giao dịch trước khi ký:\")\n",
    "        print(transaction.info())\n",
    "        \n",
    "    \n",
    "    # Ký giao dịch bằng cả hai cosigner\n",
    "    \n",
    "    transaction.sign([cosigner1_key,cosigner2_key])\n",
    "    \n",
    "    print(\"hehe\")\n",
    "    print(transaction.info())\n",
    "\n",
    "    # In thông tin giao dịch sau khi ký\n",
    "    # Phát giao dịch lên mạng Bitcoin testnet\n",
    "    url = \"https://blockstream.info/testnet/api/tx\"\n",
    "    \n",
    "    # Gửi giao dịch đã ký đến API\n",
    "    response = requests.post(url, data=transaction.as_hex())\n",
    "    \n",
    "    if response.status_code == 200:\n",
    "        print(\"=================Giao dịch đã được gửi thành công.\")\n",
    "        print(\"TxID:\", response.text)\n",
    "    else:\n",
    "        print(\"Lỗi khi gửi giao dịch:\", response.text)\n",
    "\n",
    "except FileNotFoundError as fnf_error:\n",
    "    print(\" Lỗi file:\", fnf_error)\n",
    "\n",
    "except ValueError as val_error:\n",
    "    print(\" Lỗi giá trị:\", val_error)\n",
    "\n",
    "except Exception as e:\n",
    "    print(\" Xảy ra lỗi:\", e)\n"
   ]
  },
  {
   "cell_type": "markdown",
   "metadata": {},
   "source": [
    "### Kiểm tra đã nhận được coin chưa"
   ]
  }
 ],
 "metadata": {
  "kernelspec": {
   "display_name": "Python 3",
   "language": "python",
   "name": "python3"
  },
  "language_info": {
   "codemirror_mode": {
    "name": "ipython",
    "version": 3
   },
   "file_extension": ".py",
   "mimetype": "text/x-python",
   "name": "python",
   "nbconvert_exporter": "python",
   "pygments_lexer": "ipython3",
   "version": "3.11.9"
  }
 },
 "nbformat": 4,
 "nbformat_minor": 2
}
