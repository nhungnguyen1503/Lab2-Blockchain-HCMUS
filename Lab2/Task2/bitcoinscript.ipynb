{
 "cells": [
  {
   "cell_type": "markdown",
   "metadata": {},
   "source": [
    "### Danh sách thư viện"
   ]
  },
  {
   "cell_type": "code",
   "execution_count": null,
   "metadata": {},
   "outputs": [],
   "source": [
    "%pip install bitcoinlib"
   ]
  },
  {
   "cell_type": "code",
   "execution_count": 1,
   "metadata": {},
   "outputs": [],
   "source": [
    "from bitcoinlib.keys import HDKey\n",
    "from bitcoinlib.wallets import wallet_create_or_open, WalletTransaction\n",
    "from bitcoinlib.services.services import Service\n",
    "import os"
   ]
  },
  {
   "cell_type": "markdown",
   "metadata": {},
   "source": [
    "## Create a Multisig 2-2 Script"
   ]
  },
  {
   "cell_type": "markdown",
   "metadata": {},
   "source": [
    "### Tạo ví và lưu vào file multisig_wallets_info.txt (chạy 1 lần vì mỗi lần chạy sẽ tạo ra ví khác)"
   ]
  },
  {
   "cell_type": "code",
   "execution_count": 31,
   "metadata": {},
   "outputs": [],
   "source": [
    "private_key1 = HDKey( network='testnet', multisig=True)\n",
    "private_key2 = HDKey( network='testnet', multisig=True)\n",
    "\n",
    "# Generate the public keys for both participants\n",
    "pubkey1 = private_key1.public_master_multisig()\n",
    "pubkey2 = private_key2.public_master_multisig()\n",
    "\n",
    "\n",
    "wallet1 = wallet_create_or_open('multisig_wallet1', sigs_required=2, keys=[private_key1, pubkey2], network='testnet')\n",
    "wallet2 = wallet_create_or_open('multisig_wallet2', sigs_required=2, keys=[pubkey1, private_key2], network='testnet')\n",
    "\n"
   ]
  },
  {
   "cell_type": "markdown",
   "metadata": {},
   "source": [
    "##### Lưu thông tin  ví vào 1 file multisig_wallets_info.txt"
   ]
  },
  {
   "cell_type": "code",
   "execution_count": 32,
   "metadata": {},
   "outputs": [
    {
     "name": "stdout",
     "output_type": "stream",
     "text": [
      "Thông tin của hai ví đã được lưu vào file: multisig_wallets_info.txt\n"
     ]
    }
   ],
   "source": [
    "import os\n",
    "\n",
    "# Tên file để lưu thông tin\n",
    "output_file = \"multisig_wallets_info.txt\"\n",
    "\n",
    "# Lấy thông tin từ wallet1\n",
    "wallet1_info = {\n",
    "    \"name\": wallet1.name,\n",
    "    \"address\": wallet1.get_key().address,  # Lấy địa chỉ đầu tiên\n",
    "    \"private_key\": private_key1.wif(),  # Khóa bí mật của cosigner 1\n",
    "    \"public_key\": private_key1.public_master_multisig(),  # Khóa công khai của cosigner 1\n",
    "}\n",
    "\n",
    "# Lấy thông tin từ wallet2\n",
    "wallet2_info = {\n",
    "    \"name\": wallet2.name,\n",
    "    \"address\": wallet2.get_key().address,  # Lấy địa chỉ đầu tiên\n",
    "    \"private_key\": private_key2.wif(),  # Khóa bí mật của cosigner 2\n",
    "    \"public_key\": private_key2.public_master_multisig(),  # Khóa công khai của cosigner 2\n",
    "}\n",
    "\n",
    "# Ghi thông tin xuống file\n",
    "with open(output_file, \"w\") as file:\n",
    "    file.write(\"Wallet 1 Information:\\n\")\n",
    "    file.write(f\"Name 1: {wallet1_info['name']}\\n\")\n",
    "    file.write(f\"Address 1: {wallet1_info['address']}\\n\")\n",
    "    file.write(f\"Private Key 1: {wallet1_info['private_key']}\\n\")\n",
    "    file.write(f\"Public Key 1: {wallet1_info['public_key']}\\n\\n\")\n",
    "    \n",
    "    file.write(\"Wallet 2 Information:\\n\")\n",
    "    file.write(f\"Name 2: {wallet2_info['name']}\\n\")\n",
    "    file.write(f\"Address 2: {wallet2_info['address']}\\n\")\n",
    "    file.write(f\"Private Key 2: {wallet2_info['private_key']}\\n\")\n",
    "    file.write(f\"Public Key 2: {wallet2_info['public_key']}\\n\\n\")\n",
    "\n",
    "print(f\"Thông tin của hai ví đã được lưu vào file: {output_file}\")"
   ]
  },
  {
   "cell_type": "markdown",
   "metadata": {},
   "source": [
    "##### Hàm lấy thông tin ví từ file txt"
   ]
  },
  {
   "cell_type": "code",
   "execution_count": 33,
   "metadata": {},
   "outputs": [],
   "source": [
    "def load_wallet_details(file_path):\n",
    "    wallet_details = {}\n",
    "    with open(file_path, \"r\") as file:\n",
    "        for line in file:\n",
    "            if \": \" in line: \n",
    "                key, value = line.strip().split(\": \", 1)\n",
    "                wallet_details[key] = value\n",
    "    return wallet_details"
   ]
  },
  {
   "cell_type": "markdown",
   "metadata": {},
   "source": [
    "## Lock Funds"
   ]
  },
  {
   "cell_type": "markdown",
   "metadata": {},
   "source": [
    "### Sử dụng Bitcoin testnet faucet để gửi BTC đến ví vừa tạo "
   ]
  },
  {
   "cell_type": "markdown",
   "metadata": {},
   "source": [
    "Truy cập : https://coinfaucet.eu/en/btc-testnet4/ và\n",
    "dán địa chỉ Multisig Wallet vừa tạo để nạp tbtc vào ví"
   ]
  },
  {
   "cell_type": "markdown",
   "metadata": {},
   "source": [
    "Truy cập : https://blockstream.info/testnet và sử dụng địa chỉ từ file txt để kiểm tra Transaction của ví"
   ]
  },
  {
   "cell_type": "markdown",
   "metadata": {},
   "source": [
    "***Hãy đảm bảo ví đã nhận được tbtc trước khi thực hiện Spend Locked Funds***"
   ]
  },
  {
   "cell_type": "markdown",
   "metadata": {},
   "source": [
    "## Spend Locked Funds"
   ]
  },
  {
   "cell_type": "markdown",
   "metadata": {},
   "source": [
    "#### Tạo 1 ví mới để nhận tBTC từ Multisig Wallet"
   ]
  },
  {
   "cell_type": "code",
   "execution_count": null,
   "metadata": {},
   "outputs": [
    {
     "name": "stdout",
     "output_type": "stream",
     "text": [
      "=== WALLET ===\n",
      " ID                             50\n",
      " Name                           Receiver Wallet\n",
      " Owner                          \n",
      " Scheme                         bip32\n",
      " Multisig                       False\n",
      " Witness type                   segwit\n",
      " Main network                   testnet\n",
      " Latest update                  None\n",
      "\n",
      "= Wallet Master Key =\n",
      " ID                             190\n",
      " Private                        True\n",
      " Depth                          0\n",
      "\n",
      "- NETWORK: testnet -\n",
      "- - Keys\n",
      "  195 m/84'/1'/0'/0/0              tb1qyf5z8hwprt7l9kt8h0q3k2r89fyrmxdfvnlxq4    address index 0                     0.00000000 TBTC\n",
      "\n",
      "- - Transactions Account 0 (0)\n",
      "\n",
      "= Balance Totals (includes unconfirmed) =\n",
      "\n",
      "\n",
      "address :  tb1qyf5z8hwprt7l9kt8h0q3k2r89fyrmxdfvnlxq4\n"
     ]
    }
   ],
   "source": [
    "receiver_key = HDKey(network= 'testnet')\n",
    "receiver_name = \"Receiver Wallet\"\n",
    "receiver_wallet = wallet_create_or_open(receiver_name, receiver_key, network=\"testnet\")\n",
    "\n",
    "receiver_wallet.info()\n"
   ]
  },
  {
   "cell_type": "markdown",
   "metadata": {},
   "source": [
    "### Load thông tin ví từ file Multisig_wallets_info rồi tạo và gửi giao dịch"
   ]
  },
  {
   "cell_type": "markdown",
   "metadata": {},
   "source": [
    "***Hãy đảm bảo balance của ví trước khi thực hiện giao dịch chuyển coint***"
   ]
  },
  {
   "cell_type": "code",
   "execution_count": null,
   "metadata": {},
   "outputs": [
    {
     "name": "stdout",
     "output_type": "stream",
     "text": [
      "Wallet 1 UTXOs: [{'transaction_id': 10, 'address': 'tb1qe74axxwj084wvw3jaljecvqxuhn9e6en3j0jsch00gjct0lsp0lq96mfpt', 'script_type': 'p2wsh', 'spent': False, 'spending_index_n': None, 'key_id': 210, 'output_n': 1, 'script': b'', 'value': 17400, 'spending_txid': None, 'is_change': False, 'confirmations': 2, 'txid': 'bb8a9a089642a0a84a59b148ee724e4d6dda4e669bc1884714f10d34910bd449', 'network_name': 'testnet'}, {'transaction_id': 3, 'address': 'tb1qce9m69sv3nv94kdrfv8ukmsas4ywuwwyc29h2ufrh87zztce0plsqa68cj', 'script_type': 'p2wsh', 'spent': False, 'spending_index_n': None, 'key_id': 184, 'output_n': 0, 'script': b'\\x00 \\xc6K\\xbd\\x16\\x0c\\x8c\\xd8Z\\xd9\\xa3K\\x0f\\xcbn\\x1d\\x85H\\xee9\\xc4\\xc2\\x8buq#\\xb9\\xfc!/\\x19x\\x7f', 'value': 33972, 'spending_txid': None, 'is_change': True, 'confirmations': 0, 'txid': 'd5bf45b3f4829b6cb8eacf227c5367e5eb9afb1e9e441e88f00afe1a7a8a1315', 'network_name': 'testnet'}]\n",
      "tb1qyg60e7rch3crtcpsvycc6fe77uzryrgdhm7qa497nta0v9yv9t5s3ygt3g == tb1qyg60e7rch3crtcpsvycc6fe77uzryrgdhm7qa497nta0v9yv9t5s3ygt3g: True\n",
      "\n",
      "--------------------------------\n",
      "Transaction 37d662405717788d625cbbb0d2ff35496093d00fe4779d1828a4b5f9c1d35542\n",
      "Date: None\n",
      "Network: testnet\n",
      "Locktime: Until block 3610897\n",
      "Version: 1\n",
      "Witness type: segwit\n",
      "Status: unconfirmed\n",
      "Verified: True\n",
      "Inputs\n",
      "- tb1q9u75redqjdfrzgrydmnhjvqj59qcynlrjd0fnguga49g9vxrnhlsr6cm7d 0.00045772 tBTC 9eeb4841e4c95d23c52d3470be0a0f6d0626b6f098693b97ce4e44c5385adec0 1\n",
      "  segwit p2sh_multisig; sigs: 2 (2-of-2) valid\n",
      "Outputs\n",
      "- tb1qyf5z8hwprt7l9kt8h0q3k2r89fyrmxdfvnlxq4 0.00010000 tBTC p2wpkh U\n",
      "- tb1qyg60e7rch3crtcpsvycc6fe77uzryrgdhm7qa497nta0v9yv9t5s3ygt3g 0.00031632 tBTC p2wsh UC\n",
      "Size: 180\n",
      "Vsize: 180\n",
      "Fee: 4140\n",
      "Confirmations: 0\n",
      "Block: None\n",
      "Pushed to network: True\n",
      "Wallet: multisig_wallet1\n",
      "\n",
      "\n"
     ]
    }
   ],
   "source": [
    "\n",
    "file_path = 'multisig_wallets_info.txt'\n",
    "wallet_details = load_wallet_details(file_path)\n",
    "wallet_name_1 = wallet_details[\"Name 1\"] \n",
    "private_key_1 = wallet_details[\"Private Key 1\"]\n",
    "public_key_1 = wallet_details[\"Public Key 1\"]  \n",
    "wallet_name_2 = wallet_details[\"Name 2\"]  \n",
    "private_key_2 = wallet_details[\"Private Key 2\"] \n",
    "public_key_2 = wallet_details[\"Public Key 2\"] \n",
    "\n",
    "key1 = HDKey(private_key_1, network=\"testnet\",multisig=True)\n",
    "key2 = HDKey(private_key_2, network=\"testnet\",multisig=True)\n",
    "\n",
    "\n",
    "wallet1 = wallet_create_or_open(wallet_name_1, sigs_required=2, keys=[key1, public_key_2], network=\"testnet\")\n",
    "print(\"Wallet 1 UTXOs:\", wallet1.utxos().to_json())\n",
    "wallet2 = wallet_create_or_open(wallet_name_2, sigs_required=2, keys=[public_key_1, key2], network=\"testnet\")\n",
    "\n",
    "wallet1.utxos_update()\n",
    "\n",
    "\n",
    "wallet2.utxos_update()\n",
    "\n",
    "recipient_address = receiver_wallet.get_key().address\n",
    "t = wallet2.transaction_create([(recipient_address, 10000)])\n",
    "t.sign()\n",
    "t2 = wallet1.transaction_import(t)\n",
    "t2.sign()\n",
    "print(\"%s == %s: %s\" % (t.outputs[1].address, t2.outputs[1].address, t.outputs[1].address == t2.outputs[1].address))\n",
    "\n",
    "t2.send(broadcast=True)\n",
    "print(\"\\n--------------------------------\")\n",
    "t2.info()\n"
   ]
  },
  {
   "cell_type": "markdown",
   "metadata": {},
   "source": [
    "### Kiểm tra ví nhận coin "
   ]
  },
  {
   "cell_type": "code",
   "execution_count": 43,
   "metadata": {},
   "outputs": [
    {
     "name": "stdout",
     "output_type": "stream",
     "text": [
      "=== WALLET ===\n",
      " ID                             50\n",
      " Name                           Receiver Wallet\n",
      " Owner                          \n",
      " Scheme                         bip32\n",
      " Multisig                       False\n",
      " Witness type                   segwit\n",
      " Main network                   testnet\n",
      " Latest update                  None\n",
      "\n",
      "= Wallet Master Key =\n",
      " ID                             190\n",
      " Private                        True\n",
      " Depth                          0\n",
      "\n",
      "- NETWORK: testnet -\n",
      "- - Keys\n",
      "  195 m/84'/1'/0'/0/0              tb1qyf5z8hwprt7l9kt8h0q3k2r89fyrmxdfvnlxq4    address index 0                     0.00000000 TBTC\n",
      "\n",
      "- - Transactions Account 0 (1)\n",
      "37d662405717788d625cbbb0d2ff35496093d00fe4779d1828a4b5f9c1d35542  tb1qyf5z8hwprt7l9kt8h0q3k2r89fyrmxdfvnlxq4        0       0.00010000 TBTC U \n",
      "\n",
      "= Balance Totals (includes unconfirmed) =\n",
      "testnet              (Account 0)               0.00010000 TBTC\n",
      "\n",
      "\n"
     ]
    }
   ],
   "source": [
    "receiver_wallet.utxos_update()\n",
    "receiver_wallet.info()"
   ]
  }
 ],
 "metadata": {
  "kernelspec": {
   "display_name": "min_ds-env",
   "language": "python",
   "name": "python3"
  },
  "language_info": {
   "codemirror_mode": {
    "name": "ipython",
    "version": 3
   },
   "file_extension": ".py",
   "mimetype": "text/x-python",
   "name": "python",
   "nbconvert_exporter": "python",
   "pygments_lexer": "ipython3",
   "version": "3.9.18"
  }
 },
 "nbformat": 4,
 "nbformat_minor": 2
}
