{
 "cells": [
  {
   "cell_type": "markdown",
   "metadata": {},
   "source": [
    "### Danh sách thư viện"
   ]
  },
  {
   "cell_type": "code",
   "execution_count": 18,
   "metadata": {},
   "outputs": [],
   "source": [
    "from bitcoinlib.keys import Key\n",
    "from bitcoinlib.wallets import *\n",
    "from bitcoinlib.values import *"
   ]
  },
  {
   "cell_type": "markdown",
   "metadata": {},
   "source": [
    "## Create a P2PKH Script"
   ]
  },
  {
   "cell_type": "markdown",
   "metadata": {},
   "source": [
    "### In ra màn hinhg thông tin của 1 ví"
   ]
  },
  {
   "cell_type": "code",
   "execution_count": 32,
   "metadata": {},
   "outputs": [],
   "source": [
    "def print_info_wallet(wallet: Wallet, private_key, file_path):\n",
    "    # Print wallet information\n",
    "    print(\"Information of Wallet\")\n",
    "    wallet.utxos_update()\n",
    "    wallet.info()\n",
    "    \n",
    "    # Prepare the information to be written\n",
    "    wallet_name = wallet.name\n",
    "    public_key = wallet.public_master().wif\n",
    "    address = wallet.addresslist()[0]\n",
    "\n",
    "    # Display information on the console\n",
    "    print(\"-----Information of Private Key, Public Key, Address------\")\n",
    "    print(f\"Wallet Name: {wallet_name}\")\n",
    "    print(\"Private_key: \", private_key)\n",
    "    print(\"Public_key: \", public_key)\n",
    "    print(\"Address: \", address)\n",
    "    \n",
    "    # Save the information to bitcoin_keys.txt\n",
    "\n",
    "    with open(file_path, \"w\") as file:\n",
    "        file.write(f\"Wallet Name: {wallet_name}\\n\")\n",
    "        file.write(f\"Private Key: {private_key}\\n\")\n",
    "        file.write(f\"Public Key: {public_key}\\n\")\n",
    "        file.write(f\"Address: {address}\\n\")\n",
    "    \n",
    "    print(f\"Wallet details saved to {file_path}\")\n"
   ]
  },
  {
   "cell_type": "markdown",
   "metadata": {},
   "source": [
    "### Tạo private_key và tạo 1 ví (Chỉ chạy 1 lần đầu)"
   ]
  },
  {
   "cell_type": "code",
   "execution_count": 20,
   "metadata": {},
   "outputs": [
    {
     "name": "stdout",
     "output_type": "stream",
     "text": [
      "Infomation of Wallet\n",
      "=== WALLET ===\n",
      " ID                             8\n",
      " Name                           wallet_1_test\n",
      " Owner                          \n",
      " Scheme                         bip32\n",
      " Multisig                       False\n",
      " Witness type                   segwit\n",
      " Main network                   testnet\n",
      " Latest update                  None\n",
      "\n",
      "= Wallet Master Key =\n",
      " ID                             43\n",
      " Private                        True\n",
      " Depth                          0\n",
      "\n",
      "- NETWORK: testnet -\n",
      "- - Keys\n",
      "   48 m/84'/1'/0'/0/0              tb1qk944dxz7evevpnmpmytv3fme9mgwmw9h7stjld    address index 0                     0.00000000 TBTC\n",
      "\n",
      "- - Transactions Account 0 (0)\n",
      "\n",
      "= Balance Totals (includes unconfirmed) =\n",
      "\n",
      "\n",
      "-----Infomation of Private key, Public key, Address------\n",
      "Private_key:  cbc2a1ecd6a05aa9d0204c048044b3fed9bd9c76fe9d27dbdd4922b2691a81f7\n",
      "Public_key:  vpub5Z7RJzzRbspRNJuLTX6u2EJA36s7HiZLWeaRqVFHS1NViq5TxoWNoEVyuwQLq6mtDpcB2dpgMNvkuedLQCRWcSayH4hveN1hJJBLqHDPjUq\n",
      "Address:  tb1qk944dxz7evevpnmpmytv3fme9mgwmw9h7stjld\n"
     ]
    }
   ],
   "source": [
    "# # Generate a random private key\n",
    "#private_key = Key(network='testnet').private_hex\n",
    "\n",
    "#wallet_name = 'wallet_1_test'\n",
    "#wallet = wallet_create_or_open(wallet_name, private_key, network='testnet')\n",
    "#print_info_wallet(wallet, private_key)\n"
   ]
  },
  {
   "cell_type": "markdown",
   "metadata": {},
   "source": [
    "- `wallet_name: `wallet_1_test\n",
    "- `Private_key:` 73865105958ac341bd6b7eaca2a63656b60141decd9050828eb37ec0b876cc44\n",
    "- `Public_key:` vpub5Yv8win3HD4JmE9VbtcwRXjRgFHACq9LMkYZE6og1MXWwBWcPitF6ZAzjhBfX8bJq7a8hudoRTGZyrhymZmSGVfddvyAk68FF9mVXWzYy61\n",
    "- `Address:` tb1qflg0htt6ae3vcp0thc7rlrd9gelmv0e88q3frj"
   ]
  },
  {
   "cell_type": "markdown",
   "metadata": {},
   "source": [
    "## Lock Funds"
   ]
  },
  {
   "cell_type": "markdown",
   "metadata": {},
   "source": [
    "### Sử dụng Bitcoin testnet faucet để gửi BTC đến ví vừa tạo "
   ]
  },
  {
   "cell_type": "code",
   "execution_count": 35,
   "metadata": {},
   "outputs": [
    {
     "name": "stdout",
     "output_type": "stream",
     "text": [
      "Information of Wallet\n",
      "=== WALLET ===\n",
      " ID                             8\n",
      " Name                           wallet_1_test\n",
      " Owner                          \n",
      " Scheme                         bip32\n",
      " Multisig                       False\n",
      " Witness type                   segwit\n",
      " Main network                   testnet\n",
      " Latest update                  None\n",
      "\n",
      "= Wallet Master Key =\n",
      " ID                             43\n",
      " Private                        True\n",
      " Depth                          0\n",
      "\n",
      "- NETWORK: testnet -\n",
      "- - Keys\n",
      "   48 m/84'/1'/0'/0/0              tb1qk944dxz7evevpnmpmytv3fme9mgwmw9h7stjld    address index 0                     0.00000000 TBTC\n",
      "\n",
      "- - Transactions Account 0 (1)\n",
      "402e01f48a3532a807b5235cead497fe726ff7a358c271519e28156ee0400823  tb1qk944dxz7evevpnmpmytv3fme9mgwmw9h7stjld        0       0.00019397 TBTC U \n",
      "\n",
      "= Balance Totals (includes unconfirmed) =\n",
      "testnet              (Account 0)               0.00019397 TBTC\n",
      "\n",
      "\n",
      "-----Information of Private Key, Public Key, Address------\n",
      "Wallet Name: wallet_1_test\n",
      "Private_key:  cbc2a1ecd6a05aa9d0204c048044b3fed9bd9c76fe9d27dbdd4922b2691a81f7\n",
      "Public_key:  vpub5Z7RJzzRbspRNJuLTX6u2EJA36s7HiZLWeaRqVFHS1NViq5TxoWNoEVyuwQLq6mtDpcB2dpgMNvkuedLQCRWcSayH4hveN1hJJBLqHDPjUq\n",
      "Address:  tb1qk944dxz7evevpnmpmytv3fme9mgwmw9h7stjld\n",
      "Wallet details saved to bitcoin_keys.txt\n"
     ]
    }
   ],
   "source": [
    "# Get wallet\n",
    "\n",
    "# Read wallet details from the bitcoin_keys.txt file\n",
    "def load_wallet_details(file_path):\n",
    "    wallet_details = {}\n",
    "    with open(file_path, \"r\") as file:\n",
    "        for line in file:\n",
    "            key, value = line.strip().split(\": \", 1)\n",
    "            wallet_details[key] = value\n",
    "    return wallet_details\n",
    "\n",
    "# Load wallet details\n",
    "wallet_details = load_wallet_details('bitcoin_keys.txt')\n",
    "\n",
    "# Extract wallet name and private key\n",
    "wallet_name_send = wallet_details[\"Wallet Name\"]\n",
    "private_key_send = wallet_details[\"Private Key\"]\n",
    "\n",
    "# Open the wallet using the loaded details\n",
    "wallet_send = wallet_create_or_open(wallet_name_send, private_key_send, network=\"testnet\")\n",
    "\n",
    "# Print wallet information\n",
    "print_info_wallet(wallet_send, private_key_send, 'bitcoin_keys.txt')"
   ]
  },
  {
   "cell_type": "markdown",
   "metadata": {},
   "source": [
    "## Spend Locked Funds"
   ]
  },
  {
   "cell_type": "markdown",
   "metadata": {},
   "source": [
    "### Tạo 1 ví mới để nhận "
   ]
  },
  {
   "cell_type": "code",
   "execution_count": 36,
   "metadata": {},
   "outputs": [
    {
     "name": "stdout",
     "output_type": "stream",
     "text": [
      "Information of Wallet\n",
      "=== WALLET ===\n",
      " ID                             10\n",
      " Name                           wallet_1_receive\n",
      " Owner                          \n",
      " Scheme                         bip32\n",
      " Multisig                       False\n",
      " Witness type                   segwit\n",
      " Main network                   testnet\n",
      " Latest update                  None\n",
      "\n",
      "= Wallet Master Key =\n",
      " ID                             55\n",
      " Private                        True\n",
      " Depth                          0\n",
      "\n",
      "- NETWORK: testnet -\n",
      "- - Keys\n",
      "   60 m/84'/1'/0'/0/0              tb1qe0maeawrwyt742mqlhsmp8lh79sjlung9gps2j    address index 0                     0.00000000 TBTC\n",
      "\n",
      "- - Transactions Account 0 (0)\n",
      "\n",
      "= Balance Totals (includes unconfirmed) =\n",
      "\n",
      "\n",
      "-----Information of Private Key, Public Key, Address------\n",
      "Wallet Name: wallet_1_receive\n",
      "Private_key:  528e82a4ca65521f5452e88d06ea7ebadcad2882540e473f2c030b0adb3b490d\n",
      "Public_key:  vpub5ZkykYARkNxLfMM2Tx3yD5fEBL2ZUfXiErpFysbax2YdahtqmDifEWaAV4892H2vxrjZM9SLwv7EjikdcED8HsLqWkBoXaDtBuCGmogX855\n",
      "Address:  tb1qe0maeawrwyt742mqlhsmp8lh79sjlung9gps2j\n",
      "Wallet details saved to bitcoin_keys2.txt\n"
     ]
    }
   ],
   "source": [
    "# # Generate a random private key\n",
    "#private_key_receive = Key(network='testnet').private_hex\n",
    "\n",
    "#wallet_name_receive = 'wallet_1_receive'\n",
    "#wallet_receive = wallet_create_or_open(wallet_name_receive, private_key_receive, network='testnet')\n",
    "#print_info_wallet(wallet_receive, private_key_receive, 'bitcoin_keys2.txt')\n",
    "#==================================================================================\n",
    "# Load wallet details\n",
    "wallet_details = load_wallet_details('bitcoin_keys2.txt')\n",
    "\n",
    "# Extract wallet name and private key\n",
    "wallet_name_receive = wallet_details[\"Wallet Name\"]\n",
    "private_key_receive = wallet_details[\"Private Key\"]\n",
    "wallet_receive = wallet_create_or_open(wallet_name_receive, private_key_receive, network='testnet')\n",
    "print_info_wallet(wallet_receive, private_key_receive, 'bitcoin_keys2.txt')\n"
   ]
  },
  {
   "cell_type": "markdown",
   "metadata": {},
   "source": [
    "- `wallet_name: `wallet_1_recieve\n",
    "- `Private_key:` af237b45125eb4c63e0c7587e66d0d4e8f276086bb4e0046380b2d8ef63c98ec\n",
    "- `Public_key:` vpub5ZgpxrojCsd8iKho7aDfDVPobmU2U4rLMLnEmUsWjEsEEA8vkjWHHDCPUZ64tfq7AjskpBMttwz94hf3eVHKsD34HwYG31Kn86zCrtnz4cx\n",
    "- `Address:` tb1qs0rlmmq7dn0rh6csedpswv9rxfn743va44udlc"
   ]
  },
  {
   "cell_type": "markdown",
   "metadata": {},
   "source": [
    "### Gửi coin"
   ]
  },
  {
   "cell_type": "code",
   "execution_count": 51,
   "metadata": {},
   "outputs": [],
   "source": [
    "def spendLockFunds(wallet: Wallet, private_key_send: String, amount: float, destination_address: String):\n",
    "    # wallet.info()\n",
    "    wallet.utxos_update()\n",
    "    amount = int(amount * 1e8)\n",
    "\n",
    "    Tx = wallet.send_to(to_address=destination_address, amount=amount, network='testnet', priv_keys = private_key_send ,broadcast = True)\n",
    "    Tx.info()\n",
    "    \n",
    "    print('Transaction finished! See your wallet status below:')\n",
    "    wallet.utxos_update()\n",
    "    # wallet.info()"
   ]
  },
  {
   "cell_type": "code",
   "execution_count": 50,
   "metadata": {},
   "outputs": [
    {
     "name": "stdout",
     "output_type": "stream",
     "text": [
      "Error: 'DbTransactionOutput' object has no attribute '_sa_instance_state'\n"
     ]
    }
   ],
   "source": [
    "#Extract information of recipient and sender\n",
    "wallet_receiver = load_wallet_details('bitcoin_keys2.txt')\n",
    "wallet_sender = load_wallet_details('bitcoin_keys.txt')\n",
    "\n",
    "# Define recipient address and amount to send\n",
    "recipient_address = wallet_receiver[\"Address\"] # wallet_1_receive address\n",
    "amount_to_send = 1500 /1e8  # Amount in BTC (adjust as needed)\n",
    "private_key_send = wallet_sender[\"Private Key\"] # wallet_1_test private key\n",
    "wallet_send\n",
    "try:\n",
    "    spendLockFunds(wallet_send, private_key_send, amount_to_send, recipient_address)\n",
    "except Exception as e:\n",
    "    print(f\"Error: {e}\")\n"
   ]
  },
  {
   "cell_type": "markdown",
   "metadata": {},
   "source": [
    "### Kiểm tra đã nhận được coin chưa"
   ]
  },
  {
   "cell_type": "code",
   "execution_count": 49,
   "metadata": {},
   "outputs": [
    {
     "name": "stdout",
     "output_type": "stream",
     "text": [
      "Information of Wallet\n",
      "=== WALLET ===\n",
      " ID                             10\n",
      " Name                           wallet_1_receive\n",
      " Owner                          \n",
      " Scheme                         bip32\n",
      " Multisig                       False\n",
      " Witness type                   segwit\n",
      " Main network                   testnet\n",
      " Latest update                  None\n",
      "\n",
      "= Wallet Master Key =\n",
      " ID                             55\n",
      " Private                        True\n",
      " Depth                          0\n",
      "\n",
      "- NETWORK: testnet -\n",
      "- - Keys\n",
      "   60 m/84'/1'/0'/0/0              tb1qe0maeawrwyt742mqlhsmp8lh79sjlung9gps2j    address index 0                     0.00000000 TBTC\n",
      "\n",
      "- - Transactions Account 0 (0)\n",
      "\n",
      "= Balance Totals (includes unconfirmed) =\n",
      "\n",
      "\n",
      "-----Information of Private Key, Public Key, Address------\n",
      "Wallet Name: wallet_1_receive\n",
      "Private_key:  528e82a4ca65521f5452e88d06ea7ebadcad2882540e473f2c030b0adb3b490d\n",
      "Public_key:  vpub5ZkykYARkNxLfMM2Tx3yD5fEBL2ZUfXiErpFysbax2YdahtqmDifEWaAV4892H2vxrjZM9SLwv7EjikdcED8HsLqWkBoXaDtBuCGmogX855\n",
      "Address:  tb1qe0maeawrwyt742mqlhsmp8lh79sjlung9gps2j\n",
      "Wallet details saved to bitcoin_keys2.txt\n"
     ]
    }
   ],
   "source": [
    "wallet_name_receive = wallet_details[\"Wallet Name\"]\n",
    "private_key_receive = wallet_details[\"Private Key\"]\n",
    "wallet_receive = wallet_create_or_open(wallet_name_receive, private_key_receive, network='testnet')\n",
    "print_info_wallet(wallet_receive, private_key_receive, 'bitcoin_keys2.txt')"
   ]
  }
 ],
 "metadata": {
  "kernelspec": {
   "display_name": "min_ds-env",
   "language": "python",
   "name": "python3"
  },
  "language_info": {
   "codemirror_mode": {
    "name": "ipython",
    "version": 3
   },
   "file_extension": ".py",
   "mimetype": "text/x-python",
   "name": "python",
   "nbconvert_exporter": "python",
   "pygments_lexer": "ipython3",
   "version": "3.9.18"
  }
 },
 "nbformat": 4,
 "nbformat_minor": 2
}
